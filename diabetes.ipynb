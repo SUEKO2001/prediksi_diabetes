{
 "cells": [
  {
   "cell_type": "code",
   "execution_count": 2,
   "id": "b69f009d-26e3-4ba8-b5b5-3b370334a509",
   "metadata": {},
   "outputs": [],
   "source": [
    "#Tentukan Library Yang Digunakan\n",
    "import numpy as np\n",
    "import pandas as pd\n",
    "from sklearn.model_selection import train_test_split\n",
    "from sklearn.linear_model import LogisticRegression\n",
    "from sklearn.metrics import accuracy_score\n"
   ]
  },
  {
   "cell_type": "code",
   "execution_count": null,
   "id": "32545ca4-edd2-48e4-be9a-6a8f9d63f9b8",
   "metadata": {},
   "outputs": [
    {
     "name": "stdout",
     "output_type": "stream",
     "text": [
      "     Pregnancies  Glucose  BloodPressure  SkinThickness  Insulin   BMI  \\\n",
      "0              6      148             72             35        0  33.6   \n",
      "1              1       85             66             29        0  26.6   \n",
      "2              8      183             64              0        0  23.3   \n",
      "3              1       89             66             23       94  28.1   \n",
      "4              0      137             40             35      168  43.1   \n",
      "..           ...      ...            ...            ...      ...   ...   \n",
      "763           10      101             76             48      180  32.9   \n",
      "764            2      122             70             27        0  36.8   \n",
      "765            5      121             72             23      112  26.2   \n",
      "766            1      126             60              0        0  30.1   \n",
      "767            1       93             70             31        0  30.4   \n",
      "\n",
      "     DiabetesPedigreeFunction  Age  \n",
      "0                       0.627   50  \n",
      "1                       0.351   31  \n",
      "2                       0.672   32  \n",
      "3                       0.167   21  \n",
      "4                       2.288   33  \n",
      "..                        ...  ...  \n",
      "763                     0.171   63  \n",
      "764                     0.340   27  \n",
      "765                     0.245   30  \n",
      "766                     0.349   47  \n",
      "767                     0.315   23  \n",
      "\n",
      "[768 rows x 8 columns]\n",
      "0      1\n",
      "1      0\n",
      "2      1\n",
      "3      0\n",
      "4      1\n",
      "      ..\n",
      "763    0\n",
      "764    0\n",
      "765    0\n",
      "766    1\n",
      "767    0\n",
      "Name: Outcome, Length: 768, dtype: int64\n"
     ]
    }
   ],
   "source": [
    "#Load Dataset\n",
    "diabetes_dataset = pd.read_csv('diabetes.csv')\n",
    "#Menampilkan 5 data teratas\n",
    "diabetes_dataset.head()\n",
    "#Mengetahui jumlah data (Kolom & Baris)\n",
    "#diabetes_dataset.shape\n",
    "#Menghitung jumlah nilai Outome\n",
    "#diabetes_dataset['Outcome'].value_counts()\n",
    "#Memisahkan data & Label\n",
    "x = diabetes_dataset.drop(columns='Outcome', axis=1)\n",
    "y = diabetes_dataset['Outcome']\n",
    " #Mencetak x\n",
    "print(x)\n",
    "# #Mencetak y\n",
    "print(y)"
   ]
  },
  {
   "cell_type": "code",
   "execution_count": 4,
   "id": "0f99f636-fc60-4f88-a167-faa407ddf0ff",
   "metadata": {},
   "outputs": [
    {
     "name": "stdout",
     "output_type": "stream",
     "text": [
      "(768, 8) (614, 8) (154, 8)\n"
     ]
    }
   ],
   "source": [
    "#Memisahkan Data Training dan Data Testing\n",
    "x_train, x_test, y_train, y_test = train_test_split(x, y, test_size=0.2, stratify=y, random_state=2)\n",
    "#mencetak x\n",
    "print(x.shape, x_train.shape, x_test.shape)"
   ]
  },
  {
   "cell_type": "code",
   "execution_count": 5,
   "id": "3da42c5e-6a62-41c6-b81e-b992c1be1691",
   "metadata": {},
   "outputs": [
    {
     "name": "stdout",
     "output_type": "stream",
     "text": [
      "Akurasi data training adalah =  0.7850162866449512\n",
      "Akurasi data testing adalah =  0.7532467532467533\n"
     ]
    },
    {
     "name": "stderr",
     "output_type": "stream",
     "text": [
      "c:\\Users\\Anonymouse\\AppData\\Local\\Programs\\Python\\Python313\\Lib\\site-packages\\sklearn\\linear_model\\_logistic.py:469: ConvergenceWarning: lbfgs failed to converge (status=1):\n",
      "STOP: TOTAL NO. of ITERATIONS REACHED LIMIT.\n",
      "\n",
      "Increase the number of iterations (max_iter) or scale the data as shown in:\n",
      "    https://scikit-learn.org/stable/modules/preprocessing.html\n",
      "Please also refer to the documentation for alternative solver options:\n",
      "    https://scikit-learn.org/stable/modules/linear_model.html#logistic-regression\n",
      "  n_iter_i = _check_optimize_result(\n"
     ]
    }
   ],
   "source": [
    "#Membuat model training\n",
    "model = LogisticRegression()\n",
    "model.fit(x_train, y_train)\n",
    "#Evaluasi Model\n",
    "#Akurasi data training\n",
    "x_train_prediction =model.predict(x_train)\n",
    "training_data_accuracy = accuracy_score(x_train_prediction, y_train)\n",
    "print('Akurasi data training adalah = ', training_data_accuracy)\n",
    "#Test akurasi data testing\n",
    "x_test_prediction =model.predict(x_test)\n",
    "test_data_accuracy = accuracy_score(x_test_prediction, y_test)\n",
    "print('Akurasi data testing adalah = ', test_data_accuracy)"
   ]
  },
  {
   "cell_type": "code",
   "execution_count": 6,
   "id": "7d03be09-1a12-4edd-99ac-5c6b09539f07",
   "metadata": {},
   "outputs": [
    {
     "name": "stdout",
     "output_type": "stream",
     "text": [
      "[0]\n",
      "Pasien tidak terkena diabetes\n"
     ]
    },
    {
     "name": "stderr",
     "output_type": "stream",
     "text": [
      "c:\\Users\\Anonymouse\\AppData\\Local\\Programs\\Python\\Python313\\Lib\\site-packages\\sklearn\\base.py:493: UserWarning: X does not have valid feature names, but LogisticRegression was fitted with feature names\n",
      "  warnings.warn(\n"
     ]
    }
   ],
   "source": [
    "#Membuat model prediksi\n",
    "#test input data (diabetes.csv) nilai atribut\n",
    "input_data = (1,\t85,\t66,\t29,\t0,\t26.6,\t0.351,\t31)\n",
    "input_data_as_numpy_array = np.array(input_data)\n",
    "input_data_reshaped = input_data_as_numpy_array.reshape(1,-1)\n",
    "prediction = model.predict(input_data_reshaped)\n",
    "print(prediction)\n",
    "\n",
    "if (prediction[0] == 0 ):\n",
    "  print('Pasien tidak terkena diabetes')\n",
    "else:\n",
    "  print('Pasien terkena diabetes')\n",
    "\n"
   ]
  },
  {
   "cell_type": "code",
   "execution_count": 7,
   "id": "755c22b7-f11f-4a8a-8ca0-efd6ade1fe94",
   "metadata": {},
   "outputs": [],
   "source": [
    "#Simpan model\n",
    "#Library\n",
    "import pickle\n",
    "\n",
    "filename = 'diabetes_model.sav'\n",
    "pickle.dump(model, open(filename, 'wb'))\n"
   ]
  },
  {
   "cell_type": "code",
   "execution_count": null,
   "id": "e990b403",
   "metadata": {},
   "outputs": [],
   "source": []
  }
 ],
 "metadata": {
  "kernelspec": {
   "display_name": "Python 3",
   "language": "python",
   "name": "python3"
  },
  "language_info": {
   "codemirror_mode": {
    "name": "ipython",
    "version": 3
   },
   "file_extension": ".py",
   "mimetype": "text/x-python",
   "name": "python",
   "nbconvert_exporter": "python",
   "pygments_lexer": "ipython3",
   "version": "3.13.0"
  }
 },
 "nbformat": 4,
 "nbformat_minor": 5
}
